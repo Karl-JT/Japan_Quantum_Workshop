{
 "cells": [
  {
   "cell_type": "markdown",
   "metadata": {},
   "source": [
    "# Recap \n"
   ]
  },
  {
   "cell_type": "markdown",
   "metadata": {},
   "source": [
    "    \n",
    "* CUDA Quantum kernels \n",
    "    https://nvidia.github.io/cuda-quantum/latest/using/cudaq/kernel.html \n",
    "* Algorithmic primitives\n",
    "    https://nvidia.github.io/cuda-quantum/latest/index.html\n",
    "* Targets\n",
    "    https://github.com/NVIDIA/cuda-quantum"
   ]
  },
  {
   "cell_type": "markdown",
   "metadata": {},
   "source": [
    "# CUDA Quantum Tutorial #2\n"
   ]
  },
  {
   "cell_type": "markdown",
   "metadata": {},
   "source": [
    "\n",
    "\n",
    "* Kernel builder\n",
    "    https://nvidia.github.io/cuda-quantum/latest/using/cudaq/builder.html\n",
    "\n",
    "* Simulation backends\n",
    "    https://nvidia.github.io/cuda-quantum/latest/using/simulators.html\n",
    "\n",
    "* Variational algorithms\n",
    "    https://nvidia.github.io/cuda-quantum/latest/using/cudaq/variational.html\n",
    "\n",
    "\n",
    "Outline \n",
    "\n",
    "- 1. CUDA Quantum Kernels continued\n",
    "    - 1.1 Adjoint\n",
    "    - 1.2 Conditionals \n",
    "\n",
    "- 2. Variational quantum algorithms (VQAs)\n",
    "    - 2.1 General\n",
    "    - 2.2 VQA in CUDA Q\n",
    "        - 2.2.1 Using cudaq::observe and optimize explicitly\n",
    "        - 2.2.2 using cudaq.vqe()\n",
    "\n",
    "- 3. Targets continued\n",
    "    - 3.1 Hardware backends\n",
    "        - 3.1.1 Quantum hadrware integration\n",
    "    - 3.2 Quantum Circuit Simulation\n",
    "        - 3.2.1 cuQuantum Simulator backends\n",
    "            - Statevector (custatevec)\n",
    "            - Tensornet (cutensornet)\n",
    "        - 3.2.2 Density-matrix (dm)\n",
    "\n",
    "- 4. Noise modeling\n",
    "    - 4.1 Background\n",
    "    - 4.2 With density-matrix (dm) backend\n",
    "\n",
    "    "
   ]
  },
  {
   "cell_type": "markdown",
   "metadata": {},
   "source": [
    "### 1. CUDA Quantum Kernels continued"
   ]
  },
  {
   "cell_type": "markdown",
   "metadata": {},
   "source": [
    "#### 1.1 Adjoint of a Kernel"
   ]
  },
  {
   "cell_type": "code",
   "execution_count": null,
   "metadata": {},
   "outputs": [],
   "source": [
    "import cudaq \n",
    "\n",
    "# Create a kernel and do some operations\n",
    "other_kernel = cudaq.make_kernel()\n",
    "other_qubit = other_kernel.qalloc()\n",
    "other_kernel.x(other_qubit)\n",
    "\n",
    "# Create a kernel, which'll be the adjoint of other_kernel \n",
    "kernel = cudaq.make_kernel()\n",
    "kernel.adjoint(other_kernel)\n"
   ]
  },
  {
   "cell_type": "markdown",
   "metadata": {},
   "source": [
    "#### 1.2 Conditional Measurement"
   ]
  },
  {
   "cell_type": "code",
   "execution_count": null,
   "metadata": {},
   "outputs": [],
   "source": [
    "# The conditional measurement functionality of `cudaq.kernel`\n",
    "import cudaq \n",
    "\n",
    "kernel = cudaq.make_kernel()\n",
    "qubit = kernel.qalloc()\n",
    "\n",
    "def then_function():\n",
    "    kernel.x(qubit)\n",
    "\n",
    "kernel.x(qubit)\n",
    "\n",
    "# Measure the qubit.\n",
    "measurement_ = kernel.mz(qubit)\n",
    "# Apply `then_function` to the `kernel` if\n",
    "# the qubit was measured in the 1-state.\n",
    "#kernel.c_if(measurement_, then_function)\n",
    "\n",
    "# Measure the qubit again.\n",
    "result = cudaq.sample(kernel, shots_count=30)\n",
    "result.dump()\n",
    "\n",
    "#assert len(result) == 1\n",
    "# Qubit should be in the 0-state after undergoing\n",
    "# two X rotations.\n",
    "#assert '0' in result"
   ]
  },
  {
   "cell_type": "markdown",
   "metadata": {},
   "source": [
    "### Variational Algorithms \n",
    " \n",
    "<center>\n",
    "<img src=\"./variational_schematic.png\" alt=\"Variational Schematic\" style=\"width: 65%;\">\n",
    "\n",
    "<img src=\"./vqa_apps.png\" alt=\"VQA Apps\" style=\"width: 65%;\">\n",
    "</center>"
   ]
  },
  {
   "cell_type": "markdown",
   "metadata": {},
   "source": [
    "### 2. Variational Algorithms in CUDA Quantum\n"
   ]
  },
  {
   "cell_type": "markdown",
   "metadata": {},
   "source": [
    "\n",
    "2.1 Variational algorithms in CUDA Quantum typically leverage the `cudaq.observe(...)` function in tandem with the `cudaq.optimizer`.\n",
    "\n",
    "One can choose an optimization strategy provided as specific sub-types of the `cudaq.optimizer`."
   ]
  },
  {
   "cell_type": "code",
   "execution_count": null,
   "metadata": {},
   "outputs": [],
   "source": [
    "# Import the necessary modules\n",
    "import cudaq\n",
    "from cudaq import spin\n",
    "\n",
    "# Parameterized circuit with theta as the parameter\n",
    "kernel, theta = cudaq.make_kernel(list)\n",
    "qreg = kernel.qalloc(2)\n",
    "kernel.x(qreg[0])\n",
    "kernel.ry(theta[0], qreg[1])\n",
    "\n",
    "\n",
    "# Observable  \n",
    "hamiltonian = spin.z(0) + spin.x(1) + spin.y(0)\n",
    "\n",
    "# Initialize the gradient-free optimizer COBYLA\n",
    "optimizer = cudaq.optimizers.COBYLA()\n",
    "\n",
    "# Specify the number of iterations (optional)\n",
    "optimizer.max_iterations = 5\n",
    "\n",
    "def cost_function(x):\n",
    "    # cudaq.observe() produces the expected value of a specified observable wrt a given parameterized ansatz at given params.\n",
    "    # This value is the cost function wrt which we are optimizing.\n",
    "    observeResult = cudaq.observe(kernel, hamiltonian, x)\n",
    "    print (observeResult.expectation_z(), x)\n",
    "    return observeResult.expectation_z()\n",
    "\n",
    "# Carry out the optimization\n",
    "opt_value, opt_theta = optimizer.optimize(dimensions=1, function=cost_function)"
   ]
  },
  {
   "cell_type": "markdown",
   "metadata": {},
   "source": [
    "#### 2.2 VQE wrapper"
   ]
  },
  {
   "cell_type": "code",
   "execution_count": null,
   "metadata": {},
   "outputs": [],
   "source": [
    "# Import the necessary modules\n",
    "import cudaq\n",
    "from cudaq import spin\n",
    "\n",
    "# Parameterized circuit with theta as the parameter\n",
    "kernel, theta = cudaq.make_kernel(list)\n",
    "qreg = kernel.qalloc(2)\n",
    "kernel.x(qreg[0])\n",
    "kernel.ry(theta[0], qreg[1])\n",
    "\n",
    "# Hamiltonian operator \n",
    "hamiltonian = spin.z(0) + spin.x(1) + spin.y(0)\n",
    "\n",
    "# Initialize the gradient-free optimizer COBYLA\n",
    "optimizer = cudaq.optimizers.COBYLA()\n",
    "\n",
    "# Specify the number of iterations (optional)\n",
    "optimizer.max_iterations = 5\n",
    "\n",
    "# Carry out the optimization\n",
    "opt_value, opt_theta = cudaq.vqe(kernel=kernel, \n",
    "                        spin_operator=hamiltonian,\n",
    "                        optimizer=optimizer,\n",
    "                        parameter_count=1)\n",
    "\n",
    "print(f\"\\nminimized <H> = {round(opt_value,16)}\")\n",
    "print(f\"optimal theta = {round(opt_theta[0],16)}\")"
   ]
  },
  {
   "cell_type": "markdown",
   "metadata": {},
   "source": [
    "### 3. CUDA Quantum `target` \n",
    "A `target` is a specification of the desired platform and simulator / QPU. It can be specified as a runtime flag in Python. Alteratively, it can also be specified within the application code. \n",
    "\n",
    "     Simulation backends\n",
    "    - state-vector (`cuStateVec`) \n",
    "    - tensor-network (`cuTensorNet`)\n",
    "    - density-matrix (`dm`) \n",
    "\n",
    "     Hardware support\n",
    "    - CPU only, multi-threaded   \n",
    "    - Single GPU   \n",
    "    - Multi-GPU \n",
    "    - Multi-QPU \n",
    "    - Multi-node\n",
    "    - QPU "
   ]
  },
  {
   "cell_type": "code",
   "execution_count": null,
   "metadata": {},
   "outputs": [],
   "source": [
    "# Print all the available targets on your machine\n",
    "import cudaq\n",
    "\n",
    "targets = cudaq.get_targets()\n",
    "\n",
    "for t in targets:\n",
    "     print(t)"
   ]
  },
  {
   "cell_type": "markdown",
   "metadata": {},
   "source": [
    "#### 3.1 Quantum Hardware Integration"
   ]
  },
  {
   "cell_type": "code",
   "execution_count": null,
   "metadata": {},
   "outputs": [],
   "source": [
    "# This code will give an error!!!!!\n",
    "import cudaq\n",
    "\n",
    "# Set the target \n",
    "cudaq.set_target(\"quantinuum\")\n",
    "\n",
    "# Create the kernel we'd like to execute on Quantinuum.\n",
    "kernel = cudaq.make_kernel()\n",
    "qubits = kernel.qalloc(2)\n",
    "kernel.h(qubits[0])\n",
    "kernel.cx(qubits[0], qubits[1])\n",
    "kernel.mz(qubits)\n",
    "\n",
    "# Submit to Quantinuum's endpoint and confirm the program is valid.\n",
    "\n",
    "# By using the synchronous `cudaq.sample`, the execution of\n",
    "# any remaining classical code in the file will occur only\n",
    "# after the job has been executed by the Quantinuum service.\n",
    "# We will use the synchronous call to submit to the syntax\n",
    "# checker to confirm the validity of the program.\n",
    "counts = cudaq.sample(kernel)\n",
    "counts.dump()\n",
    "assert (len(counts) == 2)\n",
    "assert ('00' in counts)\n",
    "assert ('11' in counts)"
   ]
  },
  {
   "cell_type": "markdown",
   "metadata": {},
   "source": [
    "#### 3.2 Quantum Circuit Simulation\n"
   ]
  },
  {
   "cell_type": "markdown",
   "metadata": {},
   "source": [
    "\n",
    "What is quantum circuit simulation?\n",
    "\n",
    "Emulating the behavior of a quantum computer using classical computers.\n",
    "\n",
    "\n",
    "Why is it important?\n",
    "\n",
    "* Developing and bechmarking quantum computing applications and algorithms.\n",
    "* Prototyping, verification, and debugging quantum programs.\n",
    "* Studying the effect of noise.\n",
    "\n",
    "\n"
   ]
  },
  {
   "cell_type": "markdown",
   "metadata": {},
   "source": [
    "### 3.2.1. Simulator backends - cuQuantum\n",
    "CUDA Quantum's workhorse for quantum circuit simulation. It is a high performance library containing the following two types of simulators.\n",
    "\n",
    "##### Statevector simulator    \n",
    "* State vector simulators serve as the main vehicle for circuit simulations. \n",
    "* They maintain an accurate representation of the quantum state, known as the state vector, throughout the simulation. \n",
    "* Each gate that is applied corresponds to a matrix-vector multiplication.\n",
    "\n",
    "##### Tensornet simulator \n",
    "* The tensor network method is a technique that represents the quantum state of N qubits as a series of tensor contractions.\n",
    "* The main challenge is to compute these tensor contractions efficiently. \n",
    "* It can handle a large number of qubits for short circut depths.\n",
    "\n",
    "Note: To run with the cutensornet target, you will need to pull the CUDA Quantum docker image with the tag latest-hpc."
   ]
  },
  {
   "cell_type": "markdown",
   "metadata": {},
   "source": [
    "#### 3.2.2 Density matrix simulator\n",
    "* Simulates quantum circuits under the influence of noise. \n",
    "* Currently, it calls the QPP library under the hood and has only CPU support.\n",
    "\n",
    "To discuss the density matrix simulator further, we need to introduce a couple of new concepts."
   ]
  },
  {
   "cell_type": "markdown",
   "metadata": {},
   "source": [
    "### 4. Noise modeling"
   ]
  },
  {
   "cell_type": "markdown",
   "metadata": {},
   "source": [
    "#### 4.1 Background \n",
    "\n",
    "Noise refers to the multiple factors that can affect the accuracy of the calculations a quantum computer performs. \n",
    "\n",
    "Common sources of errors in quantum computation.\n",
    "- Quantum gate errors\n",
    "- Measurement errors\n",
    "- Decoherence\n",
    "- Crosstalk\n",
    "\n",
    "(Decoherence refers to the process by which a quantum system loses its quantum coherence, or its ability to exist in a superposition of states due to interaction with the environment.)\n",
    "    \n",
    "**Unitary gates vs Quantum channels**\n",
    "\n",
    "When you model your quantum system as closed and look at transformations the whole system can go through, those are described by unitary evolutions. The evolution of a quantum system that interacts with its environment is described using quantum channels. The isolated quantum systems are an ideal case and practically, the systems have some degree of interaction with their surroundings.\n",
    "\n",
    "**Wavefunction vs Density matrix**\n",
    "\n",
    "The wavefunction or state vector gives a complete description of the quantum state of an isolated quantum system. \n",
    "$|\\psi\\rangle$ --> ket notation for the quantum state represented as a vector. The density matrix representation is a more general representation that is used to describe noisy quantum evolution and decoherence. It can be used to describe the pure states as well as the mixed states, which are a statistical ensemble of the pure states.\n",
    "\n",
    "In the density matrix notation, a pure state is given by\n",
    "\n",
    "\\begin{equation*}\n",
    "\\rho = |\\psi\\rangle |\\psi\\rangle.\n",
    "\\end{equation*}\n",
    "\n",
    "A mixed state is repesentated as\n",
    "    \n",
    "\\begin{equation*}\n",
    "\\rho = \\sum_{j} p_j |\\psi_j\\rangle |\\psi_j\\rangle, \n",
    "\\end{equation*}\n",
    "    where the coefficients $p_j$'s are the probabilities associated with each of the states in the ensemble.\n",
    "\n"
   ]
  },
  {
   "cell_type": "markdown",
   "metadata": {},
   "source": [
    "##### Kraus Representation"
   ]
  },
  {
   "cell_type": "markdown",
   "metadata": {},
   "source": [
    "The different sources of noise that we discussed above can be represnted mathematically using the Kraus operators.\n",
    "    \n",
    "\\begin{equation*}\n",
    "\\rho \\mapsto {\\cal{N}}(\\rho) = \\sum_{j} K_j \\rho K_j^{\\dagger}\n",
    "\\end{equation*}\n",
    "\n",
    "with the condition that \n",
    "    \n",
    "\\begin{equation*}\n",
    "\\sum_{j} K_j K_j^{\\dagger} = \\mathbb{I}.\n",
    "\\end{equation*}"
   ]
  },
  {
   "cell_type": "markdown",
   "metadata": {},
   "source": [
    "\n",
    "\n",
    "##### Some single-qubit errors\n",
    "\n",
    "**Bit-flip error**\n",
    "\n",
    "- The state of the qubit is chaged from |0⟩ to |1⟩ or vice-versa\n",
    "- key-operator is Pauli X\n",
    "- Kraus reprenetation \n",
    "\n",
    "\\begin{equation*}\n",
    "    \\rho = (1-p) \\rho + p X\\rho X \n",
    "\\end{equation*}\n",
    "    with p in [0,1].\n",
    "\n",
    "\n",
    "**Phase-flip error**\n",
    "\n",
    "- The relative phase of a qubit is changed, but it's magnitude remains the same\n",
    "- |0⟩ to -|0⟩ and |1⟩ to -|1⟩\n",
    "- key-operator is Pauli Z\n",
    "\n",
    "\\begin{equation*}\n",
    "    \\rho = (1-p) \\rho + p Z\\rho Z \n",
    "\\end{equation*}\n",
    "    with p in [0,1].    \n",
    "\n",
    "**Amplitude damping**\n",
    "\n",
    "- the qubit decayz from |1⟩ to the lower energy state |0⟩\n",
    "    \n",
    "\\begin{equation*}\n",
    "    \\rho = K_1 \\rho K_1^{\\dagger} + K_2 \\rho K_2^{\\dagger}, \n",
    "\\end{equation*}\n",
    " where $K_1 = [1,0;0,\\sqrt{1-p}]$, $K_2 = [0,\\sqrt{p};0,0]$ and p is the probability of decay.\n"
   ]
  },
  {
   "cell_type": "markdown",
   "metadata": {},
   "source": [
    "#### 4.2 Noise modeling in CUDA Quantum with density-matrix simulator"
   ]
  },
  {
   "cell_type": "markdown",
   "metadata": {},
   "source": [
    "Bit-flip channel"
   ]
  },
  {
   "cell_type": "code",
   "execution_count": null,
   "metadata": {},
   "outputs": [],
   "source": [
    "import cudaq\n",
    "\n",
    "# Set the target to our density matrix simulator.\n",
    "cudaq.set_target('density-matrix-cpu')\n",
    "\n",
    "# CUDA Quantum supports several different models of noise. In this case,\n",
    "# we will examine the modeling of decoherence of the qubit state. This\n",
    "# will occur from \"bit flip\" errors, wherein the qubit has a user-specified\n",
    "# probability of undergoing an X-180 rotation.\n",
    "\n",
    "# We will begin by defining an empty noise model that we will add\n",
    "# these decoherence channels to.\n",
    "noise = cudaq.NoiseModel()\n",
    "\n",
    "# Bit flip channel with `1.0` probability of the qubit flipping 180 degrees.\n",
    "bit_flip = cudaq.BitFlipChannel(1.0)\n",
    "# We will apply this channel to any X gate on the qubit, giving each X-gate\n",
    "# a probability of `1.0` of undergoing an extra X-gate.\n",
    "noise.add_channel('x', [0], bit_flip)\n",
    "\n",
    "# Now we may define our simple kernel function and allocate a register\n",
    "# of qubits to it.\n",
    "kernel = cudaq.make_kernel()\n",
    "qubit = kernel.qalloc()\n",
    "\n",
    "# Apply an X-gate to the qubit.\n",
    "# It will remain in the |1> state with a probability of `1 - p = 0.0`.\n",
    "kernel.x(qubit)\n",
    "# Measure.\n",
    "kernel.mz(qubit)\n",
    "\n",
    "# Now we're ready to run the noisy simulation of our kernel.\n",
    "# Note: We must pass the noise model to sample via key-word.\n",
    "noisy_result = cudaq.sample(kernel, noise_model=noise)\n",
    "noisy_result.dump()\n",
    "\n",
    "# Our results should show all measurements in the |0> state, indicating\n",
    "# that the noise has successfully impacted the system.\n",
    "\n",
    "# To confirm this, we can run the simulation again without noise.\n",
    "# We should now see the qubit in the |1> state.\n",
    "noiseless_result = cudaq.sample(kernel)\n",
    "noiseless_result.dump()"
   ]
  },
  {
   "cell_type": "markdown",
   "metadata": {},
   "source": [
    " Phase-flip channel\n",
    "   "
   ]
  },
  {
   "cell_type": "code",
   "execution_count": null,
   "metadata": {},
   "outputs": [],
   "source": [
    "# Phase flip channel with `1.0` probability of the qubit\n",
    "# undergoing a phase rotation of 180 degrees (π).\n",
    "phase_flip = cudaq.PhaseFlipChannel(1.0)"
   ]
  },
  {
   "cell_type": "markdown",
   "metadata": {},
   "source": [
    "Ampltiude damping channel"
   ]
  },
  {
   "cell_type": "code",
   "execution_count": null,
   "metadata": {},
   "outputs": [],
   "source": [
    "# Amplitude damping channel with `1.0` probability of the qubit\n",
    "# decaying to the ground state.\n",
    "amplitude_damping = cudaq.AmplitudeDampingChannel(1.0)\n",
    "# We will apply this channel to any Hadamard gate on the qubit.\n",
    "# Meaning, after each Hadamard on the qubit, there will be a\n",
    "# probability of `1.0` that the qubit decays back to ground.\n",
    "noise.add_channel('h', [0], amplitude_damping)"
   ]
  },
  {
   "cell_type": "markdown",
   "metadata": {},
   "source": [
    " Custom Noise Model\n",
    "\n",
    " Here, we demonstrate a custom noise model with the same Kraus operators as in the ampltiude damping channel, but following the same template we can build other noise models such as the Pauli noise model."
   ]
  },
  {
   "cell_type": "code",
   "execution_count": null,
   "metadata": {},
   "outputs": [],
   "source": [
    "import cudaq\n",
    "import numpy as np\n",
    "\n",
    "# Set the target to our density matrix simulator.\n",
    "cudaq.set_target('density-matrix-cpu')\n",
    "\n",
    "# CUDA Quantum supports custom noise models through the definition of\n",
    "# `KrausChannel`'s. In this case, we will define a set of `KrausOperator`'s\n",
    "# that  affect the same noise as the `AmplitudeDampingChannel`. This\n",
    "# channel will model the energy dissipation within our system via\n",
    "# environmental interactions. With a variable probability, it will\n",
    "# return the qubit to the |0> state.\n",
    "\n",
    "# We will begin by defining an empty noise model that we will add\n",
    "# our Kraus Channel to.\n",
    "noise = cudaq.NoiseModel()\n",
    "\n",
    "\n",
    "# We will define our Kraus Operators within functions, as to\n",
    "# allow for easy control over the noise probability.\n",
    "def kraus_operators(probability):\n",
    "    \"\"\"See Nielsen, Chuang Chapter 8.3.5 for definition source.\"\"\"\n",
    "    kraus_0 = np.array([[1, 0], [0, np.sqrt(1 - probability)]],\n",
    "                       dtype=np.complex128)\n",
    "    kraus_1 = np.array([[0, 0], [np.sqrt(probability), 0]], dtype=np.complex128)\n",
    "    return [kraus_0, kraus_1]\n",
    "\n",
    "\n",
    "# Manually defined amplitude damping channel with `1.0` probability\n",
    "# of the qubit decaying to the ground state.\n",
    "amplitude_damping = cudaq.KrausChannel(kraus_operators(1.0))\n",
    "# We will apply this channel to any Hadamard gate on the qubit.\n",
    "# Meaning, after each Hadamard on the qubit, there will be a\n",
    "# probability of `1.0` that the qubit decays back to ground.\n",
    "noise.add_channel('h', [0], amplitude_damping)\n",
    "\n",
    "# Now we may define our simple kernel function and allocate a qubit.\n",
    "kernel = cudaq.make_kernel()\n",
    "qubit = kernel.qalloc()\n",
    "\n",
    "# Then we apply a Hadamard gate to the qubit.\n",
    "# This will bring it to `1/sqrt(2) (|0> + |1>)`, where it will remain\n",
    "# with a probability of `1 - p = 0.0`.\n",
    "kernel.h(qubit)\n",
    "\n",
    "# Measure.\n",
    "kernel.mz(qubit)\n",
    "\n",
    "# Now we're ready to run the noisy simulation of our kernel.\n",
    "# Note: We must pass the noise model to sample via key-word.\n",
    "noisy_result = cudaq.sample(kernel, noise_model=noise)\n",
    "noisy_result.dump()\n",
    "\n",
    "# Our results should show all measurements in the |0> state, indicating\n",
    "# that the noise has successfully impacted the system.\n",
    "\n",
    "# To confirm this, we can run the simulation again without noise.\n",
    "# The qubit will now have a 50/50 mix of measurements between\n",
    "# |0> and |1>.\n",
    "noiseless_result = cudaq.sample(kernel)\n",
    "noiseless_result.dump()"
   ]
  }
 ],
 "metadata": {
  "kernelspec": {
   "display_name": "Python 3 (ipykernel)",
   "language": "python",
   "name": "python3"
  },
  "language_info": {
   "codemirror_mode": {
    "name": "ipython",
    "version": 3
   },
   "file_extension": ".py",
   "mimetype": "text/x-python",
   "name": "python",
   "nbconvert_exporter": "python",
   "pygments_lexer": "ipython3",
   "version": "3.10.12"
  }
 },
 "nbformat": 4,
 "nbformat_minor": 2
}
