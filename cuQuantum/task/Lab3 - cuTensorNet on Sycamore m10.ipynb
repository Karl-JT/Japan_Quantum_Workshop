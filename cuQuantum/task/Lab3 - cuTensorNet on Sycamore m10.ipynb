{
 "cells": [
  {
   "cell_type": "markdown",
   "id": "e2dc29ed",
   "metadata": {},
   "source": [
    "# cuQuantum Tensor Network Tutorial"
   ]
  },
  {
   "cell_type": "markdown",
   "id": "18b1efa1",
   "metadata": {},
   "source": [
    "In this tutorial, we will explore the cuQuantum Python API using the [M10 Sycamore circuit](https://ai.googleblog.com/2019/10/quantum-supremacy-using-programmable.html) as an example. \n",
    "\n",
    "We chose this problem because it is a great fit for the tensor network method (the single-precision state vector would require 64 PetaBytes of memory) and it is highly entangled creating a challenge for quantum circuit simulators and continues to be studied widely in the Quantum Computing community.\n",
    "\n",
    "To get the most out of this tutorial, you should have attended the introduction to cuQuantum and tensor networks [presentation](ISC22_cuQuantum_Tensor_Networks.pdf) earlier during this conference where key concepts and algorithms were described."
   ]
  },
  {
   "cell_type": "markdown",
   "id": "f1b74e9c",
   "metadata": {},
   "source": [
    "_Tip: restart kernel and clear output if you have issues in running code due to global state (like import or logging)._"
   ]
  },
  {
   "cell_type": "markdown",
   "id": "8e679abb",
   "metadata": {},
   "source": [
    "## Setup"
   ]
  },
  {
   "cell_type": "markdown",
   "id": "947cd709",
   "metadata": {},
   "source": [
    "Load the Sycamore M10 data and create a circuit using [Quimb](https://quimb.readthedocs.io/en/latest/):"
   ]
  },
  {
   "cell_type": "code",
   "execution_count": null,
   "id": "fb37a8a9",
   "metadata": {},
   "outputs": [],
   "source": [
    "import quimb.tensor as qtn\n",
    "\n",
    "name = \"data/circuit_n53_m10_s0_e0_pABCDCDAB.qsim\"\n",
    "circ = qtn.Circuit.from_qasm_file(name)"
   ]
  },
  {
   "cell_type": "markdown",
   "id": "c95872e6",
   "metadata": {},
   "source": [
    "First create a Quimb tensor network representing a random bit string $\\mathbf{b}$ of length 53:"
   ]
  },
  {
   "cell_type": "code",
   "execution_count": null,
   "id": "86391eff",
   "metadata": {
    "scrolled": true
   },
   "outputs": [],
   "source": [
    "b = qtn.MPS_rand_computational_state(circ.N, seed=12)\n",
    "\n",
    "def mps_bit_string(mps):\n",
    "   return ''.join('0' if (a == [[1., 0.]]).all() else '1' for a in mps.arrays)\n",
    "\n",
    "mps_bit_string(b)"
   ]
  },
  {
   "cell_type": "markdown",
   "id": "cbd297ec",
   "metadata": {},
   "source": [
    "Next, create a Quimb tensor network object resulting from the overlap of the wave function $\\large\\mathbf{|\\: \\psi \\rangle \\equiv U\\:|\\:\\psi_0 \\rangle}$ with bit string $\\mathbf{b}$, $\\large\\mathbf{\\alpha= \\langle b\\:|\\:\\psi \\rangle \\equiv \\langle b\\:|\\:U\\:|\\:\\psi_0 \\rangle}$:"
   ]
  },
  {
   "cell_type": "code",
   "execution_count": null,
   "id": "663bec46",
   "metadata": {},
   "outputs": [],
   "source": [
    "tn = circ.psi & b\n",
    "tn"
   ]
  },
  {
   "cell_type": "markdown",
   "id": "5eea152f",
   "metadata": {},
   "source": [
    "Plot the Quimb tensor network:"
   ]
  },
  {
   "cell_type": "code",
   "execution_count": null,
   "id": "af7db1b0",
   "metadata": {},
   "outputs": [],
   "source": [
    "tn.graph(iterations=25, color=circ.psi.site_tags, legend=False, figsize = (5, 5))"
   ]
  },
  {
   "cell_type": "markdown",
   "id": "9f1efea2",
   "metadata": {},
   "source": [
    "Simplify the circuit in-place and cast to single precision:"
   ]
  },
  {
   "cell_type": "code",
   "execution_count": null,
   "id": "fc7ff687",
   "metadata": {},
   "outputs": [],
   "source": [
    "output_inds = ()\n",
    "tn.full_simplify_(output_inds=output_inds).astype_('complex64')"
   ]
  },
  {
   "cell_type": "markdown",
   "id": "93b04125",
   "metadata": {},
   "source": [
    "As you can see, full simplification has dramatically reduced the number of tensors in the network. We will also see the impact of using the unsimplified network with cuQuantum later."
   ]
  },
  {
   "cell_type": "markdown",
   "id": "6cf39686",
   "metadata": {},
   "source": [
    "Now visualize the simplified Quimb tensor network:"
   ]
  },
  {
   "cell_type": "code",
   "execution_count": null,
   "id": "b97354c7",
   "metadata": {
    "scrolled": true
   },
   "outputs": [],
   "source": [
    "tn.graph(iterations=25, color=circ.psi.site_tags, legend=False, figsize = (5, 5))"
   ]
  },
  {
   "cell_type": "markdown",
   "id": "1421b8a7",
   "metadata": {},
   "source": [
    "## Network Definition"
   ]
  },
  {
   "cell_type": "markdown",
   "id": "aab3e9de",
   "metadata": {},
   "source": [
    "The [Einstein summation (\"einsum\") convention](https://en.wikipedia.org/wiki/Einstein_notation) is an elegant way of specifying common tensor operations, and the original notation has been [generalized](https://numpy.org/doc/stable/reference/generated/numpy.einsum.html) to allow operations not initially supported. The generalized einsum expression along with the input tensors is the interface used by cuQuantum to concisely capture the graph structure of the tensor network.\n",
    "\n",
    "Create an einsum expression from the Quimb tensor network:"
   ]
  },
  {
   "cell_type": "code",
   "execution_count": null,
   "id": "226984cc",
   "metadata": {},
   "outputs": [],
   "source": [
    "inputs, output, _ = tn.get_inputs_output_size_dict(output_inds=output_inds)\n",
    "expr = ','.join(inputs) + '->' + output\n",
    "operands = tn.arrays"
   ]
  },
  {
   "cell_type": "markdown",
   "id": "869a14a0",
   "metadata": {},
   "source": [
    "## cuQuantum in a Nutshell"
   ]
  },
  {
   "cell_type": "markdown",
   "id": "0978e57d",
   "metadata": {},
   "source": [
    "Import cuQuantum:"
   ]
  },
  {
   "cell_type": "code",
   "execution_count": null,
   "id": "934b9bae",
   "metadata": {},
   "outputs": [],
   "source": [
    "from cuquantum import *"
   ]
  },
  {
   "cell_type": "markdown",
   "id": "aca87b1d",
   "metadata": {},
   "source": [
    "Evaluate the probability amplitude $\\large\\mathbf{\\alpha= \\langle b\\:|\\:\\psi \\rangle \\equiv \\langle b\\:|\\:U\\:|\\:\\psi_0 \\rangle}$ by contracting the network:\n",
    "<a id='initial_run'></a>"
   ]
  },
  {
   "cell_type": "code",
   "execution_count": null,
   "id": "15545eac",
   "metadata": {},
   "outputs": [],
   "source": [
    "%time alpha = contract(expr, *operands)"
   ]
  },
  {
   "cell_type": "code",
   "execution_count": null,
   "id": "c1e7c93f",
   "metadata": {},
   "outputs": [],
   "source": [
    "alpha"
   ]
  },
  {
   "cell_type": "code",
   "execution_count": null,
   "id": "b6c48eaf",
   "metadata": {},
   "outputs": [],
   "source": [
    "abs(alpha)**2"
   ]
  },
  {
   "cell_type": "markdown",
   "id": "4ad8d770",
   "metadata": {},
   "source": [
    "_That's all it takes._ You've used cuQuantum to contract the tensor network and evaluate the probability amplitude where $\\large\\mathbf{|\\alpha|^2}$ is the probability of obtaining the bitstring $\\mathbf{b}$. Note that while the input tensors are NumPy `ndarray`s on the CPU, the contraction happens on the GPU. The result however is of the same type as the input tensors, so it is also a NumPy `ndarray`."
   ]
  },
  {
   "cell_type": "markdown",
   "id": "c2ec9452",
   "metadata": {},
   "source": [
    "Now let's turn logging on to see the operations happening inside cuTensorNet during the `contract()` call. \n",
    "\n",
    "The default logger is the root logger, though a custom logger object conforming to the Python [logging module](https://docs.python.org/3/library/logging.html) interface  can also be provided. Different log levels can be specified corresponding to the extent of information needed."
   ]
  },
  {
   "cell_type": "code",
   "execution_count": null,
   "id": "62461b13",
   "metadata": {},
   "outputs": [],
   "source": [
    "import logging\n",
    "logging.basicConfig(level=logging.DEBUG, format='%(asctime)s %(levelname)-8s %(message)s', force=True)\n",
    "logging.disable(logging.NOTSET)    # reset logging to default.\n",
    "\n",
    "contract(expr, *operands)"
   ]
  },
  {
   "cell_type": "markdown",
   "id": "9dddaa6d",
   "metadata": {},
   "source": [
    "The main operations are: \n",
    "\n",
    "1. defining the network,\n",
    "2. finding an optimal contraction path, and\n",
    "3. performing the contraction.\n",
    "\n",
    "Each operation consists of a set of interrelated subtasks as depicted in the figure below. You are able to customize the operations by providing desired options.\n"
   ]
  },
  {
   "attachments": {
    "operations.png": {
     "image/png": "[encoded data removed]"
    }
   },
   "cell_type": "markdown",
   "id": "622dc246",
   "metadata": {},
   "source": [
    "![operations.png](attachment:operations.png)"
   ]
  },
  {
   "cell_type": "markdown",
   "id": "2aebe248",
   "metadata": {},
   "source": [
    "We will look at the main operations in detail shortly. Now that you have an idea of what is happening behind the scene, disable logging to reduce clutter:"
   ]
  },
  {
   "cell_type": "code",
   "execution_count": null,
   "id": "f400fc14",
   "metadata": {},
   "outputs": [],
   "source": [
    "logging.disable()"
   ]
  },
  {
   "cell_type": "markdown",
   "id": "13624826",
   "metadata": {},
   "source": [
    "## Optimization"
   ]
  },
  {
   "cell_type": "markdown",
   "id": "b171c8b2",
   "metadata": {},
   "source": [
    "Compute the contraction path using opt_einsum to obtain metrics such as total number of floating point operations (FLOPs) and largest intermediate tensor size (for memory considerations) for reference:"
   ]
  },
  {
   "cell_type": "code",
   "execution_count": null,
   "id": "555e9632",
   "metadata": {},
   "outputs": [],
   "source": [
    "import opt_einsum as oe\n",
    "path, info = oe.contract_path(expr, *operands)\n",
    "f\"opt_einsum FLOPs = {info.opt_cost:.3e}, largest intermediate = {info.largest_intermediate:.3e} elements\""
   ]
  },
  {
   "cell_type": "markdown",
   "id": "656fdf02",
   "metadata": {},
   "source": [
    "### Default Options"
   ]
  },
  {
   "cell_type": "markdown",
   "id": "07058832",
   "metadata": {},
   "source": [
    "Now let's compute the path using cuQuantum with the default options. We'll use the [function-call API](https://docs.nvidia.com/cuda/cuquantum/python/api/cuquantum.html#python-functions):"
   ]
  },
  {
   "cell_type": "code",
   "execution_count": null,
   "id": "d8393676",
   "metadata": {},
   "outputs": [],
   "source": [
    "path, info = contract_path(expr, *operands)\n",
    "f\"Default: FLOPs = {info.opt_cost:.3e}, largest intermediate = {info.largest_intermediate:.3e} elements\""
   ]
  },
  {
   "cell_type": "markdown",
   "id": "b13de579",
   "metadata": {},
   "source": [
    "As you can see, the default cuQuantum path is more than 3 _orders of magnitude_ cheaper than the opt_einsum path and the largest intermediate is over 100 times smaller. Note that there are aspects of randomness in the algorithm, so you will see a different result for each run. We'll discuss this shortly as well."
   ]
  },
  {
   "cell_type": "markdown",
   "id": "4ada0133",
   "metadata": {},
   "source": [
    "### Path Finder Options"
   ]
  },
  {
   "cell_type": "markdown",
   "id": "a855d1b7",
   "metadata": {},
   "source": [
    "First disable reconfiguration to see the effect on the cost of the computed path. We'll use the options API systematically in this example. In later examples, we will see equivalent forms of providing the options directly."
   ]
  },
  {
   "cell_type": "code",
   "execution_count": null,
   "id": "48c8eefa",
   "metadata": {},
   "outputs": [],
   "source": [
    "reconfig_opts = ReconfigOptions(num_iterations = 0)\n",
    "optimizer_opts = OptimizerOptions(reconfiguration = reconfig_opts)\n",
    "path, info = contract_path(expr, *operands, optimize = optimizer_opts)\n",
    "f\"No reconfiguration: FLOPs = {info.opt_cost:.3e}, largest intermediate = {info.largest_intermediate:.3e} elements\""
   ]
  },
  {
   "cell_type": "markdown",
   "id": "256c0aa3",
   "metadata": {},
   "source": [
    "Without reconfiguration, the cost of the path has increased by about 2 orders of magnitude. Reconfiguration, which iteratively improves the path quality through a sequence of local modifications, is clearly important to obtaining a high-quality path. _We will keep reconfiguration disabled to prevent it from masking the impact as we experiment with the path finder options_."
   ]
  },
  {
   "cell_type": "markdown",
   "id": "fcdeb77d",
   "metadata": {},
   "source": [
    "Let's check the effect of setting the divisive algorithm (graph partitioning) parameters on the quality of the computed path. Experience has shown that one such key parameter is the _imbalance factor_ and we set it to a value of 160 here which is a \"slight\" change since the default is 200.  Note that we disable reconfiguration using a `dict` interface here to illustrate the flexibility of the API."
   ]
  },
  {
   "cell_type": "code",
   "execution_count": null,
   "id": "b976adbf",
   "metadata": {},
   "outputs": [],
   "source": [
    "imbalance_factor = 160 \n",
    "pathfinder_opts = PathFinderOptions(imbalance_factor = imbalance_factor)\n",
    "optimizer_opts = OptimizerOptions(path = pathfinder_opts, reconfiguration = {'num_iterations' : 0}) \n",
    "path, info = contract_path(expr, *operands, optimize = optimizer_opts)\n",
    "f\"No reconfiguration, imbalance factor = {imbalance_factor}: FLOPs = {info.opt_cost:.3e}, largest intermediate = {info.largest_intermediate:.3e} elements\""
   ]
  },
  {
   "cell_type": "markdown",
   "id": "f58f5407",
   "metadata": {},
   "source": [
    "Let's try a different value of the imbalance factor, say 820:"
   ]
  },
  {
   "cell_type": "code",
   "execution_count": null,
   "id": "996d0698",
   "metadata": {},
   "outputs": [],
   "source": [
    "imbalance_factor = 820 \n",
    "optimizer_opts = OptimizerOptions(path = {'imbalance_factor' : imbalance_factor}, reconfiguration = {'num_iterations' : 0}) \n",
    "path, info = contract_path(expr, *operands, optimize = optimizer_opts)\n",
    "f\"No reconfiguration, imbalance factor = {imbalance_factor}: FLOPs = {info.opt_cost:.3e}, largest intermediate = {info.largest_intermediate:.3e} elements\""
   ]
  },
  {
   "cell_type": "markdown",
   "id": "405d055a",
   "metadata": {},
   "source": [
    "With an imbalance factor of 820, the path is about an order of magnitude less expensive than with an imbalance factor of 160."
   ]
  },
  {
   "cell_type": "markdown",
   "id": "b1c29127",
   "metadata": {},
   "source": [
    "### Reconfiguration Options"
   ]
  },
  {
   "cell_type": "markdown",
   "id": "091b7d52",
   "metadata": {},
   "source": [
    "While the graph partitioning options such as the imbalance factor have a significant effect on the FLOP count, it is clear that reconfiguration seems to be key in lowering the FLOP count of the path for this problem. "
   ]
  },
  {
   "cell_type": "code",
   "execution_count": null,
   "id": "9d0ae974",
   "metadata": {},
   "outputs": [],
   "source": [
    "%time path, info = contract_path(expr, *operands)\n",
    "f\"Default reconfiguration: FLOPs = {info.opt_cost:.3e}, largest intermediate = {info.largest_intermediate:.3e} elements\""
   ]
  },
  {
   "cell_type": "markdown",
   "id": "333ba972",
   "metadata": {},
   "source": [
    "Now let's change the number of iterations for reconfiguration from the default of 500 to 100:"
   ]
  },
  {
   "cell_type": "code",
   "execution_count": null,
   "id": "7d932206",
   "metadata": {
    "scrolled": true
   },
   "outputs": [],
   "source": [
    "num_iter = 100  \n",
    "optimizer_opts = OptimizerOptions(reconfiguration = {'num_iterations' : num_iter})\n",
    "%time path, info = contract_path(expr, *operands, optimize = optimizer_opts)\n",
    "f\"Reconfiguration with {num_iter} iterations: FLOPs = {info.opt_cost:.3e}, largest intermediate = {info.largest_intermediate:.3e} elements\""
   ]
  },
  {
   "cell_type": "markdown",
   "id": "d7271c98",
   "metadata": {},
   "source": [
    "Reducing the number of iterations typically increases the FLOP count but decreases the optimizer runtime and vice-versa. While reconfiguration never increases the FLOP count of the candidate path computed by the divisive algorithm, the reconfiguration parameters should be chosen to balance the time required to find a path with the reduction in the cost of the path."
   ]
  },
  {
   "cell_type": "markdown",
   "id": "1086ec68",
   "metadata": {},
   "source": [
    "Now let's set the number of leaves for reconfiguration from 8 to 64:"
   ]
  },
  {
   "cell_type": "code",
   "execution_count": null,
   "id": "ed8815bf",
   "metadata": {},
   "outputs": [],
   "source": [
    "num_leaves = 64 \n",
    "optimizer_opts = OptimizerOptions(reconfiguration = {'num_leaves' : num_leaves})\n",
    "%time path, info = contract_path(expr, *operands, optimize = optimizer_opts)\n",
    "f\"Reconfiguration with {num_leaves} leaves: FLOPs = {info.opt_cost:.3e}, largest intermediate = {info.largest_intermediate:.3e} elements\""
   ]
  },
  {
   "cell_type": "markdown",
   "id": "aae8871c",
   "metadata": {},
   "source": [
    "While increasing the number of leaves to reconfigure typically reduces the FLOPs it is a tradeoff against pathfinder runtime."
   ]
  },
  {
   "cell_type": "markdown",
   "id": "51da22e2",
   "metadata": {},
   "source": [
    "### Slicer Options"
   ]
  },
  {
   "cell_type": "markdown",
   "id": "32ea7a1a",
   "metadata": {},
   "source": [
    "This problem does not trigger slicing since the memory required (2-4 GB from the log above) is well under the available memory in a modern GPU. However, if desired, slicing can be explicitly requested (to perform the execution in parallel, for example):"
   ]
  },
  {
   "cell_type": "code",
   "execution_count": null,
   "id": "941581ed",
   "metadata": {},
   "outputs": [],
   "source": [
    "min_slices = 16\n",
    "optimizer_opts = OptimizerOptions(slicing = {'min_slices' : min_slices})\n",
    "path, info = contract_path(expr, *operands, optimize = optimizer_opts)\n",
    "f\"Slicing with a minimum of {min_slices} slices: FLOPs = {info.opt_cost:.3e}, largest intermediate = {info.largest_intermediate:.3e} elements\""
   ]
  },
  {
   "cell_type": "markdown",
   "id": "60b9c91d",
   "metadata": {},
   "source": [
    "And get information on which modes are sliced, along with the sliced extent: "
   ]
  },
  {
   "cell_type": "code",
   "execution_count": null,
   "id": "da1f1d72",
   "metadata": {},
   "outputs": [],
   "source": [
    "info.slices"
   ]
  },
  {
   "cell_type": "markdown",
   "id": "25bfcaec",
   "metadata": {},
   "source": [
    "As a tip, note that while the sliced extent is 1 for the sliced modes when cuQuantum does the slicing, [user-specified slices](https://docs.nvidia.com/cuda/cuquantum/python/api/generated/cuquantum.OptimizerOptions.html#cuquantum.OptimizerOptions.slicing) can have any sliced extent that evenly divides the extent of the corresponding mode.\n",
    "\n",
    "An alternate way to force slicing is to specify a smaller memory limit to the network as part of the [network options](https://docs.nvidia.com/cuda/cuquantum/python/api/generated/cuquantum.contract_path.html#cuquantum.contract_path). "
   ]
  },
  {
   "cell_type": "markdown",
   "id": "63309268",
   "metadata": {},
   "source": [
    "### Hyperoptimization"
   ]
  },
  {
   "cell_type": "markdown",
   "id": "735adc4b",
   "metadata": {},
   "source": [
    "To conclude this section, instead of experimenting with the parameters as we did above, we can use the cuQuantum hyperoptimizer to explore the parameter space over `N` samples and choose the best path from among these.\n",
    "\n",
    "Let's try hyperoptimization with 16 samples:"
   ]
  },
  {
   "cell_type": "code",
   "execution_count": null,
   "id": "adaa923b",
   "metadata": {},
   "outputs": [],
   "source": [
    "samples = 16\n",
    "path, info = contract_path(expr, *operands, optimize = {'samples' : samples, 'threads' : 4})\n",
    "f\"Hyperoptimization with {samples} samples: FLOPs = {info.opt_cost:.3e}, largest intermediate = {info.largest_intermediate:.3e} elements\""
   ]
  },
  {
   "cell_type": "markdown",
   "id": "af8d98b8",
   "metadata": {},
   "source": [
    "While the results will vary unless the number of samples is large enough, we can see that even with as few as 16 samples the hyperoptimizer has been able to find a better path than we have done so far."
   ]
  },
  {
   "cell_type": "markdown",
   "id": "cc26981b",
   "metadata": {},
   "source": [
    "## Execution"
   ]
  },
  {
   "cell_type": "markdown",
   "id": "2001b8ef",
   "metadata": {},
   "source": [
    "So far we've been looking at different options for computing the path. Now let us use the computed path and perform the contraction to evaluate the amplitude."
   ]
  },
  {
   "cell_type": "code",
   "execution_count": null,
   "id": "e7f29773",
   "metadata": {},
   "outputs": [],
   "source": [
    "%time contract(expr, *operands, optimize = {'path' : path})"
   ]
  },
  {
   "cell_type": "markdown",
   "id": "0f2fe338",
   "metadata": {},
   "source": [
    "Compare the wall time with that of the [initial run](#initial_run), and observe that this time corresponds to only that required for executing the contraction operation since we have provided the path."
   ]
  },
  {
   "cell_type": "markdown",
   "id": "4b2d56c2",
   "metadata": {},
   "source": [
    "## Repeatability in Path Optimization "
   ]
  },
  {
   "cell_type": "markdown",
   "id": "6e6f5672",
   "metadata": {},
   "source": [
    "Let's take a detour and discuss repeatability of the computed path. The results from the pathfinder algorithm are deterministic if the random seed is set and only 1 thread is used with hyperoptimization."
   ]
  },
  {
   "cell_type": "code",
   "execution_count": null,
   "id": "a2d6a8fe",
   "metadata": {},
   "outputs": [],
   "source": [
    "samples = 4 \n",
    "seed = 0x256\n",
    "path, info = contract_path(expr, *operands, optimize = {'samples' : samples, 'seed' : seed, 'threads' : 1}) \n",
    "f\"Hyperoptimization with {samples} samples using seed {seed} and one thread, run #1: FLOPs = {info.opt_cost:.3e}, largest intermediate = {info.largest_intermediate:.3e} elements\""
   ]
  },
  {
   "cell_type": "code",
   "execution_count": null,
   "id": "f3ee0838",
   "metadata": {},
   "outputs": [],
   "source": [
    "path, info = contract_path(expr, *operands, optimize = {'samples' : samples, 'seed' : seed, 'threads' : 1}) \n",
    "f\"Hyperoptimization with {samples} samples using seed {seed} and one thread, run #2: FLOPs = {info.opt_cost:.3e}, largest intermediate = {info.largest_intermediate:.3e} elements\""
   ]
  },
  {
   "cell_type": "markdown",
   "id": "c2de40aa",
   "metadata": {},
   "source": [
    "As a reminder, we can find the best path and perform the contraction in a single step (as in the [first example](#initial_run) of this tutorial). We can also return the path that was used."
   ]
  },
  {
   "cell_type": "code",
   "execution_count": null,
   "id": "f027a94b",
   "metadata": {},
   "outputs": [],
   "source": [
    "alpha, (path, info) = contract(expr, *operands, optimize = {'samples' : samples, 'threads' : 1}, return_info=True)\n",
    "f\"Hyperoptimization with {samples} samples: FLOPs = {info.opt_cost:.3e}, largest intermediate = {info.largest_intermediate:.3e} elements\""
   ]
  },
  {
   "cell_type": "code",
   "execution_count": null,
   "id": "35343307",
   "metadata": {},
   "outputs": [],
   "source": [
    "f\"Probability amplitude for bitstring {mps_bit_string(b)} = {alpha}\""
   ]
  },
  {
   "cell_type": "markdown",
   "id": "49d47eb3",
   "metadata": {},
   "source": [
    "## Executing Multiple Contractions"
   ]
  },
  {
   "cell_type": "markdown",
   "id": "36dc7c8a",
   "metadata": {},
   "source": [
    "Let's try sampling another amplitude while reusing the same path determined above. We can reuse the path computed above since the network topology remains the same."
   ]
  },
  {
   "cell_type": "code",
   "execution_count": null,
   "id": "6f530049",
   "metadata": {},
   "outputs": [],
   "source": [
    "b = qtn.MPS_rand_computational_state(circ.N, seed=42)\n",
    "tn = circ.psi & b\n",
    "tn.full_simplify_(output_inds=output_inds).astype_('complex64')\n",
    "\n",
    "alpha = contract(expr, *tn.arrays, optimize = {'path' : path})\n",
    "f\"Probability amplitude for bitstring {mps_bit_string(b)} = {alpha}\""
   ]
  },
  {
   "cell_type": "markdown",
   "id": "0796dac3",
   "metadata": {},
   "source": [
    "## Effect of Simplification"
   ]
  },
  {
   "cell_type": "markdown",
   "id": "76e7be87",
   "metadata": {},
   "source": [
    "Finally, let's try to evaluate the amplitude for the original bitstring _without_ using `Quimb` simplification."
   ]
  },
  {
   "cell_type": "code",
   "execution_count": null,
   "id": "8c778cfe",
   "metadata": {},
   "outputs": [],
   "source": [
    "b = qtn.MPS_rand_computational_state(circ.N, seed=12)\n",
    "tn = circ.psi & b\n",
    "tn.astype_('complex64')"
   ]
  },
  {
   "cell_type": "markdown",
   "id": "7dbb1d5e",
   "metadata": {},
   "source": [
    "Create the einsum expression:"
   ]
  },
  {
   "cell_type": "code",
   "execution_count": null,
   "id": "010e1462",
   "metadata": {},
   "outputs": [],
   "source": [
    "inputs, output, size_dict = tn.get_inputs_output_size_dict(output_inds=output_inds)\n",
    "expr = ','.join(inputs) + '->' + output"
   ]
  },
  {
   "cell_type": "markdown",
   "id": "5ed886d9",
   "metadata": {},
   "source": [
    "Enable logging again and contract the network:"
   ]
  },
  {
   "cell_type": "code",
   "execution_count": null,
   "id": "0f64caa6",
   "metadata": {},
   "outputs": [],
   "source": [
    "logging.disable(logging.NOTSET)\n",
    "alpha = contract(expr, *tn.arrays)\n",
    "logging.disable()\n",
    "f\"Network without Quimb simplification: probability amplitude for bitstring {mps_bit_string(b)} = {alpha}\""
   ]
  },
  {
   "cell_type": "markdown",
   "id": "c86e4ed5",
   "metadata": {},
   "source": [
    "Note that the FLOP count of the network without simplification is about the same as the FLOP count with full simplification. This is because cuQuantum performs deferred rank-simplification as part of the path optimization step."
   ]
  },
  {
   "cell_type": "markdown",
   "id": "3f3b0dc1",
   "metadata": {},
   "source": [
    "## Afternotes"
   ]
  },
  {
   "cell_type": "markdown",
   "id": "e888af11",
   "metadata": {},
   "source": [
    "In this tutorial, we explored cuQuantum using the coarse-grained or function call APIs, which offer drop-in replacement functionality for the main tensor network operations: finding an optimal contraction order and performing the contraction. cuQuantum also offers these operations as methods on a [Network](https://docs.nvidia.com/cuda/cuquantum/python/api/generated/cuquantum.Network.html#cuquantum.Network) object, referred to as the fine-grained API. While both the coarse-grained and fine-grained APIs offer the same functionality, the latter is more efficient for repeated contractions on the same network. \n",
    "\n",
    "cuQuantum supports NumPy, CuPy, and PyTorch tensor operands. The Einstein summation expression can be specified in string or interleaved format, and implicit and explicit forms are supported. Broadcasting, including ellipsis expansion, is supported. In addition to the optimizer options that we focused on in this tutorial, options can be specified for the network as well as for execution (stream specification, for example). You can also provide your own memory allocator and more.\n",
    "\n",
    "Please refer to the [documentation](https://docs.nvidia.com/cuda/cuquantum/python/index.html) and explore the [samples](https://github.com/NVIDIA/cuQuantum/tree/main/python/samples) on GitHub to learn more."
   ]
  }
 ],
 "metadata": {
  "kernelspec": {
   "display_name": "Python 3 (ipykernel)",
   "language": "python",
   "name": "python3"
  },
  "language_info": {
   "codemirror_mode": {
    "name": "ipython",
    "version": 3
   },
   "file_extension": ".py",
   "mimetype": "text/x-python",
   "name": "python",
   "nbconvert_exporter": "python",
   "pygments_lexer": "ipython3",
   "version": "3.9.16"
  }
 },
 "nbformat": 4,
 "nbformat_minor": 5
}
