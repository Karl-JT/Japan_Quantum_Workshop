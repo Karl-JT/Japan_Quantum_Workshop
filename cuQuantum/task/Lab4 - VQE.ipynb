{
 "cells": [
  {
   "cell_type": "markdown",
   "id": "793481cd-e1d9-42cc-b721-004354283fc4",
   "metadata": {},
   "source": [
    "# VQE using cuStateVec"
   ]
  },
  {
   "cell_type": "markdown",
   "id": "dfb63fb4-e769-491a-a5f6-c52c443cc140",
   "metadata": {},
   "source": [
    "This notebook will give a brief tutorial on how to use cuQuantum to accelerate a simple variational quantum eigensolver (VQE) example using the DGX cuQuantum appliance. We will first compare the performance of the native CPU backend compared to the GPU backend using cuStateVec, observing a significant increase in performance for a 25 qubit system. We will then look at some of the functionality of cuTensorNet to simulate a much larger 36 qubit system.\n",
    "\n",
    "Materials are adopted from:\n",
    "\n",
    "https://quantumai.google/cirq/experiments/variational_algorithm\n",
    "https://github.com/NVIDIA/cuQuantum/blob/main/python/samples/cutensornet/circuit_converter/cirq_advanced.ipynb"
   ]
  },
  {
   "cell_type": "markdown",
   "id": "382c29d4-7270-493d-89e6-6ddbf5d18e89",
   "metadata": {},
   "source": [
    "## Define the ansatz"
   ]
  },
  {
   "cell_type": "markdown",
   "id": "a96c502f-b743-4c1b-bfb2-a0cdba3d5395",
   "metadata": {
    "tags": []
   },
   "source": [
    "In this first section we will generate a random Ising Hamiltonian on a square grid and define a few helper functions to generate our VQE ansatz. Our Hamiltonian takes the following form:"
   ]
  },
  {
   "attachments": {
    "91743b0f-16a0-4a32-8686-d2771913eb4f.png": {
     "image/png": "[encoded data removed]"
    }
   },
   "cell_type": "markdown",
   "id": "8c0ef04c-fc1c-40f5-a717-029496b84714",
   "metadata": {},
   "source": [
    "![image.png](attachment:91743b0f-16a0-4a32-8686-d2771913eb4f.png)"
   ]
  },
  {
   "cell_type": "markdown",
   "id": "fab7e052-2cd3-4aa4-8d54-3ef66ea555b8",
   "metadata": {},
   "source": [
    "Where J_i,j and h_i are randomly assigned the values +1 or -1."
   ]
  },
  {
   "cell_type": "code",
   "execution_count": null,
   "id": "200b3731-de02-4ff2-9ceb-e4680cd59397",
   "metadata": {},
   "outputs": [],
   "source": [
    "import cirq\n",
    "import qsimcirq\n",
    "import time\n",
    "import copy\n",
    "import random"
   ]
  },
  {
   "cell_type": "code",
   "execution_count": null,
   "id": "543afdb2-3363-4c5e-a5bf-42a7af81bc66",
   "metadata": {},
   "outputs": [],
   "source": [
    "def rand2d(rows, cols):\n",
    "    return[[random.choice([+1,-1]) for _ in range(cols)] for _ in range(rows)]\n",
    "def random_instance(length):\n",
    "    h=rand2d(length, length)\n",
    "    jr=rand2d(length-1,length)\n",
    "    jc=rand2d(length,length-1)\n",
    "    return(h,jr,jc)\n",
    "\n",
    "h,jr,jc=random_instance(3)"
   ]
  },
  {
   "cell_type": "code",
   "execution_count": null,
   "id": "cf58c450-866c-4214-854f-871e910b4929",
   "metadata": {},
   "outputs": [],
   "source": [
    "print(h)\n",
    "print(jr)\n",
    "print(jc)"
   ]
  },
  {
   "cell_type": "markdown",
   "id": "fdd69651-41cd-4e36-b17f-27c2927bcc99",
   "metadata": {},
   "source": [
    "#### Prepare plus state"
   ]
  },
  {
   "cell_type": "markdown",
   "id": "2c905eca-8810-44b4-9060-7222c4ec7e48",
   "metadata": {},
   "source": [
    "Our ansatz starts in the all plus state and we will evolve it using a QAOA-type evolution, where the Ising Hamiltonian evolves the starting all plus state and we add a \"mixing\" term given by the \"x layer\" below."
   ]
  },
  {
   "cell_type": "code",
   "execution_count": null,
   "id": "e6c3b186-4581-4a7e-81c5-060c02dd6d52",
   "metadata": {},
   "outputs": [],
   "source": [
    "def prepare_plus_layer(length):\n",
    "    for i in range(length):\n",
    "        for j in range(length):\n",
    "            yield cirq.H(cirq.GridQubit(i,j))"
   ]
  },
  {
   "cell_type": "code",
   "execution_count": null,
   "id": "afd0591b-aa5a-4fbd-9330-787b9d493323",
   "metadata": {},
   "outputs": [],
   "source": [
    "circuit = cirq.Circuit()\n",
    "circuit.append(prepare_plus_layer(2))\n",
    "print(circuit)"
   ]
  },
  {
   "cell_type": "markdown",
   "id": "4069819c-8de6-4320-b1e6-e69b044ee707",
   "metadata": {},
   "source": [
    "#### x layer"
   ]
  },
  {
   "cell_type": "code",
   "execution_count": null,
   "id": "9028eaca-fc72-464d-aef8-014250a27d8b",
   "metadata": {},
   "outputs": [],
   "source": [
    "def rot_x_layer(length, half_turns):\n",
    "    \"\"\"Yields X rotations by half_turns on a square grid of given length.\"\"\"\n",
    "\n",
    "    # Define the gate once and then re-use it for each Operation.\n",
    "    rot = cirq.XPowGate(exponent=half_turns)\n",
    "\n",
    "    # Create an X rotation Operation for each qubit in the grid.\n",
    "    for i in range(length):\n",
    "        for j in range(length):\n",
    "            yield rot(cirq.GridQubit(i, j))"
   ]
  },
  {
   "cell_type": "code",
   "execution_count": null,
   "id": "548179a0-1538-4cad-ae5d-2e3f0c1b37e1",
   "metadata": {},
   "outputs": [],
   "source": [
    "circuit = cirq.Circuit()\n",
    "circuit.append(rot_x_layer(2,0.1))\n",
    "print(circuit)"
   ]
  },
  {
   "cell_type": "markdown",
   "id": "2727f094-8f79-4b8f-bacd-d6027d3991e8",
   "metadata": {
    "tags": []
   },
   "source": [
    "#### Z layer"
   ]
  },
  {
   "cell_type": "code",
   "execution_count": null,
   "id": "997de53a-7ec5-47f2-93c9-ac257b69452d",
   "metadata": {},
   "outputs": [],
   "source": [
    "def rot_z_layer(h, half_turns):\n",
    "    gate=cirq.ZPowGate(exponent=half_turns)\n",
    "    for i, h_row in enumerate(h):\n",
    "        for j, h_ij in enumerate(h_row):\n",
    "            if h_ij==1:\n",
    "                yield gate(cirq.GridQubit(i,j))"
   ]
  },
  {
   "cell_type": "code",
   "execution_count": null,
   "id": "697a248d-f935-49e6-9ff0-80d956509f76",
   "metadata": {},
   "outputs": [],
   "source": [
    "circuit = cirq.Circuit()\n",
    "circuit.append(rot_z_layer(h, 0.1))"
   ]
  },
  {
   "cell_type": "code",
   "execution_count": null,
   "id": "ef928421-d455-476b-b2e4-477c91cce9d0",
   "metadata": {
    "tags": []
   },
   "outputs": [],
   "source": [
    "print(circuit)"
   ]
  },
  {
   "cell_type": "markdown",
   "id": "ff94c9ba-89a9-4b7c-b9a1-f602677c5ad3",
   "metadata": {},
   "source": [
    "#### Entangling layer"
   ]
  },
  {
   "cell_type": "markdown",
   "id": "b3584ab0-c410-4f48-995e-1913a7bc4ad0",
   "metadata": {},
   "source": [
    "Apply a CZ(theta) gate if J=+1. If J=-1, flip both qubits and apply CZ(theta)"
   ]
  },
  {
   "cell_type": "code",
   "execution_count": null,
   "id": "acee090c-216c-4145-b442-c652e536a943",
   "metadata": {},
   "outputs": [],
   "source": [
    "def rot_11_layer(jr, jc, half_turns):\n",
    "    \"\"\"Yields rotations about |11> conditioned on the jr and jc fields.\"\"\"\n",
    "    cz_gate = cirq.CZPowGate(exponent=half_turns)    \n",
    "    for i, jr_row in enumerate(jr):\n",
    "        for j, jr_ij in enumerate(jr_row):\n",
    "            q = cirq.GridQubit(i, j)\n",
    "            q_1 = cirq.GridQubit(i + 1, j)\n",
    "            if jr_ij == -1:\n",
    "                yield cirq.X(q)\n",
    "                yield cirq.X(q_1)\n",
    "            yield cz_gate(q, q_1)\n",
    "            if jr_ij == -1:\n",
    "                yield cirq.X(q)\n",
    "                yield cirq.X(q_1)\n",
    "\n",
    "    for i, jc_row in enumerate(jc):\n",
    "        for j, jc_ij in enumerate(jc_row):\n",
    "            q = cirq.GridQubit(i, j)\n",
    "            q_1 = cirq.GridQubit(i, j + 1)\n",
    "            if jc_ij == -1:\n",
    "                yield cirq.X(q)\n",
    "                yield cirq.X(q_1)\n",
    "            yield cz_gate(q, q_1)\n",
    "            if jc_ij == -1:\n",
    "                yield cirq.X(q)\n",
    "                yield cirq.X(q_1)"
   ]
  },
  {
   "cell_type": "markdown",
   "id": "fc1ac2e6-67d0-464b-9d48-346e2cdadff0",
   "metadata": {},
   "source": [
    "## Put it all together to generate the ansatz"
   ]
  },
  {
   "cell_type": "markdown",
   "id": "21cb1127-84d8-421a-a831-4c4cc79fa6e4",
   "metadata": {},
   "source": [
    "Using our helper functions above, we generate the ansatz below with a rotation of 0.3 for each of our ansatz parameters."
   ]
  },
  {
   "cell_type": "code",
   "execution_count": null,
   "id": "0027829d-9dae-4774-b253-10672b9eb60e",
   "metadata": {},
   "outputs": [],
   "source": [
    "#define a 5x5 qubit ansatz\n",
    "\n",
    "length=5\n",
    "qubits=cirq.GridQubit.square(length)\n",
    "h,jr, jc = random_instance(length)\n",
    "\n",
    "circuit=cirq.Circuit()\n",
    "circuit.append(prepare_plus_layer(length))\n",
    "circuit.append(rot_z_layer(h,0.3))\n",
    "circuit.append(rot_11_layer(jr,jc,0.3))\n",
    "circuit.append(rot_x_layer(length, 0.3))\n",
    "circuit.append(cirq.measure(*qubits, key='x'))"
   ]
  },
  {
   "cell_type": "code",
   "execution_count": null,
   "id": "e71b15aa-8940-441b-ac30-bdc9954e370d",
   "metadata": {
    "tags": []
   },
   "outputs": [],
   "source": [
    "print(circuit)"
   ]
  },
  {
   "cell_type": "markdown",
   "id": "4ece5f72-2947-40d8-a2db-6c6ec1659bee",
   "metadata": {},
   "source": [
    "## Run the simulation "
   ]
  },
  {
   "cell_type": "markdown",
   "id": "cd6a58fe-a959-40ef-95fe-748cc69ece09",
   "metadata": {},
   "source": [
    "Let's now define our two simulators, one using the CPU and one using the GPU with cuQuantum. We'll first run circuit on the CPU and compare its performance with the GPU backend."
   ]
  },
  {
   "cell_type": "code",
   "execution_count": null,
   "id": "1619fdbd-d164-40b9-ab38-0ad434dc0394",
   "metadata": {},
   "outputs": [],
   "source": [
    "# Define the simulators\n",
    "# Default simulator\n",
    "simulator = cirq.Simulator()\n",
    "\n",
    "# cuQuantum enabled GPU simulator\n",
    "ngpus=1\n",
    "qsim_options=qsimcirq.QSimOptions(\n",
    "    max_fused_gate_size=2\n",
    "    , cpu_threads=1\n",
    "    , gpu_mode = ngpus\n",
    "    , use_sampler = True\n",
    "    , disable_gpu = False\n",
    ")\n",
    "\n",
    "simulator_cuQ=qsimcirq.QSimSimulator(qsim_options)"
   ]
  },
  {
   "cell_type": "code",
   "execution_count": null,
   "id": "1d79f9ec-3e47-420e-8721-b57522c9c56c",
   "metadata": {},
   "outputs": [],
   "source": [
    "# Default simulator\n",
    "start=time.time()\n",
    "results = simulator.run(circuit, repetitions=100)\n",
    "print(results.histogram(key='x'))\n",
    "print(\"CPU runtime: {:.2f}s\".format(time.time() - start))"
   ]
  },
  {
   "cell_type": "code",
   "execution_count": null,
   "id": "34da4166-1aef-481e-83d0-0b1986f534f3",
   "metadata": {},
   "outputs": [],
   "source": [
    "# cuQuantum backend\n",
    "\n",
    "start=time.time()\n",
    "results = simulator_cuQ.run(circuit, repetitions=100)\n",
    "print(results.histogram(key='x'))\n",
    "print(\"GPU runtime: {:.2f}s\".format(time.time() - start))"
   ]
  },
  {
   "cell_type": "markdown",
   "id": "355cbb06-8d59-4bf0-bec5-50655f1f6644",
   "metadata": {},
   "source": [
    "We see that the GPU runtime is significantly faster than the CPU runtime for the simulation!"
   ]
  },
  {
   "cell_type": "markdown",
   "id": "a7141568-842d-4ee4-b65b-2b869d8a019c",
   "metadata": {},
   "source": [
    "## Calculate the energy expectation"
   ]
  },
  {
   "cell_type": "markdown",
   "id": "58ffb39e-72bf-4d7f-9c30-80b82575adb0",
   "metadata": {},
   "source": [
    "For VQE, we want to parameterize the ansatz and find the parameters which minimize the energy of the ansatz for our given Hamiltonian. The functions below calculate the energy expectation value given the output of our simulation."
   ]
  },
  {
   "cell_type": "code",
   "execution_count": null,
   "id": "29e0248b-29cb-4e5f-90f7-ba58d6af6b3b",
   "metadata": {},
   "outputs": [],
   "source": [
    "import numpy as np\n",
    "\n",
    "def energy_func(length, h, jr, jc):\n",
    "    def energy(measurements):\n",
    "        # Reshape measurement into array that matches grid shape.\n",
    "        meas_list_of_lists = [measurements[i * length:(i + 1) * length]\n",
    "                              for i in range(length)]\n",
    "        # Convert true/false to +1/-1.\n",
    "        pm_meas = 1 - 2 * np.array(meas_list_of_lists).astype(np.int32)\n",
    "\n",
    "        tot_energy = np.sum(pm_meas * h)\n",
    "        for i, jr_row in enumerate(jr):\n",
    "            for j, jr_ij in enumerate(jr_row):\n",
    "                tot_energy += jr_ij * pm_meas[i, j] * pm_meas[i + 1, j]\n",
    "        for i, jc_row in enumerate(jc):\n",
    "            for j, jc_ij in enumerate(jc_row):\n",
    "                tot_energy += jc_ij * pm_meas[i, j] * pm_meas[i, j + 1]\n",
    "        return tot_energy\n",
    "    return energy\n",
    "\n",
    "def obj_func(result):\n",
    "    energy_hist = result.histogram(key='x', fold_func=energy_func(length, h, jr, jc))\n",
    "    return np.sum([k * v for k,v in energy_hist.items()]) / result.repetitions\n"
   ]
  },
  {
   "cell_type": "code",
   "execution_count": null,
   "id": "dafe472a-0b62-4db7-a0e3-f3260ffac4f3",
   "metadata": {},
   "outputs": [],
   "source": [
    "print(results.histogram(key='x', fold_func=energy_func(length, h, jr, jc)))\n",
    "print(f'Value of the objective function <H> {obj_func(results)}')"
   ]
  },
  {
   "cell_type": "markdown",
   "id": "eed7a118-c8a5-4e4a-808e-52af668af68f",
   "metadata": {},
   "source": [
    "## Parameterize the ansatz to minimize the energy"
   ]
  },
  {
   "cell_type": "markdown",
   "id": "78f75af7-0b04-4a3d-9951-74683bb31c77",
   "metadata": {},
   "source": [
    "Let's now parameterize our circuit. We'll sweep over three angles: alpha, beta, and gamma, which parameterize the helper functions generating our ansatz. Sweeping over 10 angles for each parameter gives us 1000 circuits to run. With the CPU backend, this can take over an hour to run! We'll use the cuQuantum GPU backend and should get the results back in less than a minute."
   ]
  },
  {
   "cell_type": "code",
   "execution_count": null,
   "id": "a14674e3-04f5-410b-91b2-fd9286b9679d",
   "metadata": {
    "tags": []
   },
   "outputs": [],
   "source": [
    "# Parameterize the circuits for a VQE sweep\n",
    "import sympy\n",
    "\n",
    "# Define our parameters symbolically \n",
    "alpha = sympy.Symbol('alpha')\n",
    "beta = sympy.Symbol('beta')\n",
    "gamma = sympy.Symbol('gamma')\n",
    "\n",
    "# Define the circuit\n",
    "circuit = cirq.Circuit()\n",
    "circuit.append(prepare_plus_layer(length))\n",
    "circuit.append(rot_z_layer(h,alpha))\n",
    "circuit.append(rot_11_layer(jr,jc,beta))\n",
    "circuit.append(rot_x_layer(length, gamma))\n",
    "circuit.append(cirq.measure(*qubits, key='x'))\n",
    "\n",
    "print(circuit)"
   ]
  },
  {
   "cell_type": "code",
   "execution_count": null,
   "id": "62eb82f6-e4a6-4be3-967b-2d330f28a639",
   "metadata": {},
   "outputs": [],
   "source": [
    "# Define the sweep size\n",
    "sweep_size = 10\n",
    "start=time.time()\n",
    "\n",
    "sweep = (cirq.Linspace(key='alpha', start=0.0, stop=1.0, length=sweep_size)\n",
    "         * cirq.Linspace(key='beta', start=0.0, stop=1.0, length=sweep_size)\n",
    "         * cirq.Linspace(key='gamma', start=0.0, stop=1.0, length=sweep_size))\n",
    "\n",
    "# Execute the sweep using cuQuantum\n",
    "results = simulator_cuQ.run_sweep(circuit, params=sweep, repetitions=100)\n",
    "print(\"runtime: {:.2f}s\".format(time.time() - start))\n",
    "\n",
    "# Find the min energy \n",
    "min = None\n",
    "min_params = None\n",
    "for result in results:\n",
    "    value = obj_func(result)\n",
    "    if min is None or value < min:\n",
    "        min = value\n",
    "        min_params = result.params\n",
    "print(f'Minimum objective value is {min}.')"
   ]
  },
  {
   "cell_type": "markdown",
   "id": "908ce9f8-f4ec-4325-94f7-f0d5c1b53bd9",
   "metadata": {},
   "source": [
    "This example used cuStateVec to simulate shots in an experiment. However, we can also use cuStateVec to compute the full statevector of this system."
   ]
  },
  {
   "cell_type": "markdown",
   "id": "de41362b-6320-4146-884a-08ce735d7946",
   "metadata": {},
   "source": [
    "# cuTensorNet"
   ]
  },
  {
   "cell_type": "markdown",
   "id": "b6615ab5-765c-48ed-8d87-6bfda5cede28",
   "metadata": {},
   "source": [
    "## Compute the statevector using cuTensorNet"
   ]
  },
  {
   "cell_type": "markdown",
   "id": "1f9aa7cc-0926-4082-a4d6-23b16c849955",
   "metadata": {},
   "source": [
    "Let's now look at the CircuitToEinsum function to convert a cirq circuit into an Einsum expression. We can use this functionality to use utilize cuTensorNet now. In this first example, we'll see how to compute the statevector using cuTensorNet."
   ]
  },
  {
   "cell_type": "code",
   "execution_count": null,
   "id": "fe1d9d05-7c10-4dc4-9d7f-0bbba14b045f",
   "metadata": {},
   "outputs": [],
   "source": [
    "from cuquantum import contract, CircuitToEinsum\n",
    "import cupy as cp"
   ]
  },
  {
   "cell_type": "code",
   "execution_count": null,
   "id": "818f6d8b-f52d-4d10-9081-0fb5b9288d40",
   "metadata": {},
   "outputs": [],
   "source": [
    "# Define our 5x5 qubit grid instance\n",
    "length=5\n",
    "qubits=cirq.GridQubit.square(length)\n",
    "h,jr, jc = random_instance(length)"
   ]
  },
  {
   "cell_type": "code",
   "execution_count": null,
   "id": "1b5b5a84-4c2e-4229-b54f-dd5ff7acf25c",
   "metadata": {},
   "outputs": [],
   "source": [
    "# Define the circuit\n",
    "circuit = cirq.Circuit()\n",
    "circuit.append(prepare_plus_layer(length))\n",
    "circuit.append(rot_z_layer(h,0.5))\n",
    "circuit.append(rot_11_layer(jr,jc,0.5))\n",
    "circuit.append(rot_x_layer(length,0.5))"
   ]
  },
  {
   "cell_type": "code",
   "execution_count": null,
   "id": "644cd875-431d-400b-90da-28e1a21669ca",
   "metadata": {
    "tags": []
   },
   "outputs": [],
   "source": [
    "print(circuit)"
   ]
  },
  {
   "cell_type": "code",
   "execution_count": null,
   "id": "cd489efb-c4f2-4d9c-8fe2-fb38f31b8d48",
   "metadata": {},
   "outputs": [],
   "source": [
    "# Convert the circuit to an Einsum\n",
    "myconverter=CircuitToEinsum(circuit, dtype='complex128',backend=cp)"
   ]
  },
  {
   "cell_type": "code",
   "execution_count": null,
   "id": "4d848d18-5c97-4e29-91d5-bcfa76d8845e",
   "metadata": {},
   "outputs": [],
   "source": [
    "# Contract the tensor network\n",
    "start=time.time()\n",
    "expression, operands = myconverter.state_vector()\n",
    "sv = contract(expression, *operands)\n",
    "print(\"cuTensorNet runtime: {:.2f}s\".format(time.time() - start))\n",
    "print(f'wavefunction coefficient shape: {sv.shape}')\n",
    "\n",
    "# Check if the computed statevector is correct against the default simulator\n",
    "simulator = cirq.Simulator(dtype=np.complex128)\n",
    "start=time.time()\n",
    "result = simulator.simulate(circuit)\n",
    "print(\"qsim runtime: {:.2f}s\".format(time.time() - start))\n",
    "sv_cirq = result.state_vector().reshape((2,)*length**2)\n",
    "print(f\"is sv in agreement?\", cp.allclose(sv, sv_cirq))"
   ]
  },
  {
   "cell_type": "markdown",
   "id": "8e90fc42-950a-4d74-867f-3aa8123807fa",
   "metadata": {},
   "source": [
    "We see in this sanity check that cuTensorNet yields the same statevector that the native simulator computes."
   ]
  },
  {
   "cell_type": "markdown",
   "id": "306b79af-a7f9-489b-8160-33127396a512",
   "metadata": {},
   "source": [
    "## Let's look at a much bigger system"
   ]
  },
  {
   "cell_type": "markdown",
   "id": "328d81bc-6368-49d8-a62d-17a8cc5e290d",
   "metadata": {},
   "source": [
    "Tensor networks can give us useful information about much larger qubit systems and excel for large qubit systems with relatively shallow circuits. Let's compute a few quantities for a 36 qubit system. This isn't possible to do using a single GPU with cuStateVec since the memory requirements scales as 2^n. However, we can use cuTensorNet to compute probabilities of bitstrings of interest or a reduced density matrix. \n",
    "\n",
    "Let's compute the probability of the all |0> bitstring for 36 qubits"
   ]
  },
  {
   "cell_type": "code",
   "execution_count": null,
   "id": "244e2a8e-f233-4a92-9069-8fcbca8a4a70",
   "metadata": {},
   "outputs": [],
   "source": [
    "# 36 or 49 qubit grid\n",
    "length=6\n",
    "qubits=cirq.GridQubit.square(length)\n",
    "h,jr, jc = random_instance(length)"
   ]
  },
  {
   "cell_type": "code",
   "execution_count": null,
   "id": "11585792-0d06-429c-bdfb-1fd82ac17ab0",
   "metadata": {},
   "outputs": [],
   "source": [
    "# Define the circuit\n",
    "circuit = cirq.Circuit()\n",
    "circuit.append(prepare_plus_layer(length))\n",
    "circuit.append(rot_z_layer(h,0.5))\n",
    "circuit.append(rot_11_layer(jr,jc,0.5))\n",
    "circuit.append(rot_x_layer(length,0.5))"
   ]
  },
  {
   "cell_type": "code",
   "execution_count": null,
   "id": "fe5c70b1-d0d4-41d8-a823-ff6300a69d6d",
   "metadata": {},
   "outputs": [],
   "source": [
    "# Convert the circuit to an Einsum\n",
    "myconverter = CircuitToEinsum(circuit, dtype='complex128', backend=cp)"
   ]
  },
  {
   "cell_type": "code",
   "execution_count": null,
   "id": "74bc91fd-84a6-4319-951b-dd1b9d2e50ae",
   "metadata": {},
   "outputs": [],
   "source": [
    "# Pick a bitstring to sample\n",
    "bitstring='0'*length**2"
   ]
  },
  {
   "cell_type": "code",
   "execution_count": null,
   "id": "9909c14b-f393-4562-b5a2-ec7edeeff161",
   "metadata": {},
   "outputs": [],
   "source": [
    "# Do the contraction\n",
    "expression, operands = myconverter.amplitude(bitstring)\n",
    "print(f'einsum expression:\\n{expression}\\n')\n",
    "\n",
    "amplitude = contract(expression, *operands)\n",
    "probability = abs(amplitude) ** 2\n",
    "print(f'for bitstring {bitstring}, amplitude: {amplitude}, probability: {probability}\\n')"
   ]
  },
  {
   "cell_type": "markdown",
   "id": "e9345b44-a876-4077-bcc8-9d5a050a0cb6",
   "metadata": {},
   "source": [
    "Compute the reduced density matrix"
   ]
  },
  {
   "cell_type": "code",
   "execution_count": null,
   "id": "b256fe51-9b24-497c-96f3-b1c8023e7dbe",
   "metadata": {},
   "outputs": [],
   "source": [
    "# index the qubits and define which qubits to trace over\n",
    "qubits = sorted(circuit.all_qubits())  # ensure we can index the qubits correctly\n",
    "where = qubits[:4]\n",
    "fixed = {qubits[0]: '1',\n",
    "         qubits[1]: '1'}\n",
    "\n",
    "# Do the contraction\n",
    "# we set lightcone=True to reduce the size of the tensor network\n",
    "expression, operands = myconverter.reduced_density_matrix(where, fixed=fixed, lightcone=True)\n",
    "rdm = contract(expression, *operands)\n",
    "print(f'shape of reduced density matrix: {rdm.shape}')\n"
   ]
  },
  {
   "cell_type": "code",
   "execution_count": null,
   "id": "0d5a3b2b-d2ad-4f24-9275-08ec0cb79201",
   "metadata": {
    "tags": []
   },
   "outputs": [],
   "source": [
    "# Print the RDM\n",
    "print(rdm)"
   ]
  },
  {
   "cell_type": "markdown",
   "id": "a78745c1-abfb-45ca-934e-69e1083d582a",
   "metadata": {},
   "source": [
    "We've now covered some of the basic functionality of cuQuantum integrated with Cirq! For more information, check out the following links:\n",
    "\n",
    "https://developer.nvidia.com/cuquantum-sdk\n",
    "\n",
    "https://docs.nvidia.com/cuda/cuquantum/index.html"
   ]
  },
  {
   "cell_type": "code",
   "execution_count": null,
   "id": "b5db2f64-7a3e-446d-97d7-2d00dad4ba34",
   "metadata": {},
   "outputs": [],
   "source": []
  }
 ],
 "metadata": {
  "kernelspec": {
   "display_name": "Python 3 (ipykernel)",
   "language": "python",
   "name": "python3"
  },
  "language_info": {
   "codemirror_mode": {
    "name": "ipython",
    "version": 3
   },
   "file_extension": ".py",
   "mimetype": "text/x-python",
   "name": "python",
   "nbconvert_exporter": "python",
   "pygments_lexer": "ipython3",
   "version": "3.9.16"
  }
 },
 "nbformat": 4,
 "nbformat_minor": 5
}
